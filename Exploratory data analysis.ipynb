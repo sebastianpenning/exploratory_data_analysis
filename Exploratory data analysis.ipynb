{
 "cells": [
  {
   "cell_type": "markdown",
   "id": "1a068603",
   "metadata": {},
   "source": [
    "# Exploratory Data Analysis - Python"
   ]
  },
  {
   "cell_type": "markdown",
   "id": "07785bfb",
   "metadata": {},
   "source": [
    "This Jupyter Notebook holds the code and explanation for all the steps undertaken for an exploratory data analysis of this data."
   ]
  },
  {
   "cell_type": "markdown",
   "id": "a3755166",
   "metadata": {},
   "source": [
    "\n",
    "\n"
   ]
  },
  {
   "cell_type": "markdown",
   "id": "eeb93533",
   "metadata": {},
   "source": [
    "# Table of Contents"
   ]
  },
  {
   "cell_type": "markdown",
   "id": "67b0bd7d",
   "metadata": {},
   "source": [
    "1. Load Data\n",
    "2. Clean Data & Reformating\n",
    "3. Analysis\n",
    "3. Evaluate Results"
   ]
  },
  {
   "cell_type": "markdown",
   "id": "4052b21f",
   "metadata": {},
   "source": [
    "# 1 Load Data & Libraries"
   ]
  },
  {
   "cell_type": "markdown",
   "id": "efdc7853",
   "metadata": {},
   "source": [
    "Libraries"
   ]
  },
  {
   "cell_type": "code",
   "execution_count": 5,
   "id": "25257aa0",
   "metadata": {},
   "outputs": [],
   "source": [
    "import numpy as np\n",
    "import pandas as pd\n",
    "import matplotlib.pyplot as plot\n",
    "pd.set_option('max_columns', None)"
   ]
  },
  {
   "cell_type": "markdown",
   "id": "73402649",
   "metadata": {},
   "source": [
    "Loading the data"
   ]
  },
  {
   "cell_type": "code",
   "execution_count": 6,
   "id": "ff9950fc",
   "metadata": {},
   "outputs": [],
   "source": [
    "df = pd.read_csv(\"Path/to/csv\")\n",
    "df = pd.DataFrame(df)"
   ]
  },
  {
   "cell_type": "markdown",
   "id": "196279f1",
   "metadata": {},
   "source": [
    "# 2 Clean Data"
   ]
  },
  {
   "cell_type": "markdown",
   "id": "ab12a581",
   "metadata": {},
   "source": [
    "Drop unneccessary cells"
   ]
  },
  {
   "cell_type": "code",
   "execution_count": 7,
   "id": "136ab63d",
   "metadata": {},
   "outputs": [],
   "source": [
    "df = df.drop(df.columns[[2,4,5,7,8,9,13,14,15,20]], axis=1)"
   ]
  },
  {
   "cell_type": "markdown",
   "id": "50ff9264",
   "metadata": {},
   "source": [
    "Creating a new column"
   ]
  },
  {
   "cell_type": "code",
   "execution_count": 8,
   "id": "a4360235",
   "metadata": {},
   "outputs": [],
   "source": [
    "df['REVENUE'] = df.QUANTITY * df.UNIT_PRICE"
   ]
  },
  {
   "cell_type": "markdown",
   "id": "4966749a",
   "metadata": {},
   "source": [
    "Reordering column"
   ]
  },
  {
   "cell_type": "code",
   "execution_count": 9,
   "id": "83077805",
   "metadata": {},
   "outputs": [],
   "source": [
    "df = df[['COMMODITY', 'COMMODITY_DESCRIPTION', 'QUANTITY', 'UNIT_PRICE', 'REVENUE', 'PURCHASE_ORDER', 'AWARD_DATE', 'VENDOR_CODE', 'CITY', 'ST', 'ZIP', 'CTRY']]"
   ]
  },
  {
   "cell_type": "markdown",
   "id": "6800366d",
   "metadata": {},
   "source": [
    "Dropping rows with 0 revenue"
   ]
  },
  {
   "cell_type": "code",
   "execution_count": 10,
   "id": "0703a961",
   "metadata": {},
   "outputs": [],
   "source": [
    "df = df.drop(df[df.REVENUE == 0].index)"
   ]
  },
  {
   "cell_type": "markdown",
   "id": "ce638ba7",
   "metadata": {},
   "source": [
    "Dropping rows with NaN values"
   ]
  },
  {
   "cell_type": "code",
   "execution_count": null,
   "id": "85ebd5cf",
   "metadata": {},
   "outputs": [],
   "source": [
    "df = df.dropna()"
   ]
  },
  {
   "cell_type": "markdown",
   "id": "4819ecb7",
   "metadata": {},
   "source": [
    "# 3 Analysis"
   ]
  },
  {
   "cell_type": "markdown",
   "id": "87208df7",
   "metadata": {},
   "source": [
    "## 1 Which commodity has the most revenue, and which one the least?"
   ]
  },
  {
   "cell_type": "code",
   "execution_count": null,
   "id": "5637b59d",
   "metadata": {},
   "outputs": [],
   "source": [
    "df_com = df.groupby('COMMODITY').sum().reset_index()\n",
    "\n",
    "results_high = df_com.query('REVENUE > 20000000')\n",
    "results_low = df_com.query('REVENUE < 1')\n",
    "\n",
    "results_high.plot.bar(x = 'COMMODITY', y  = 'REVENUE')\n",
    "plot.show(block=True)\n",
    "results_low.plot.bar(x = 'COMMODITY', y  = 'REVENUE')\n",
    "plot.show(block=True)"
   ]
  },
  {
   "cell_type": "markdown",
   "id": "f242cf7c",
   "metadata": {},
   "source": [
    "## 2 Which states have the most revenue, and which one the least"
   ]
  },
  {
   "cell_type": "code",
   "execution_count": null,
   "id": "2b7dc181",
   "metadata": {},
   "outputs": [],
   "source": [
    "df_st = df.groupby('ST').sum().reset_index()\n",
    "\n",
    "st_high = df_st.query('REVENUE > 10000000')\n",
    "st_low = df_st.query('REVENUE < 100000')\n",
    "\n",
    "st_high.plot.bar(x = 'ST', y = 'REVENUE')\n",
    "plot.show(block=True)\n",
    "st_low.plot.bar(x = 'ST', y = 'REVENUE')\n",
    "plot.show(block=True)"
   ]
  },
  {
   "cell_type": "markdown",
   "id": "702686de",
   "metadata": {},
   "source": [
    "## 3 Which is the most popular product in each state"
   ]
  },
  {
   "cell_type": "code",
   "execution_count": null,
   "id": "cbb36f9e",
   "metadata": {},
   "outputs": [],
   "source": [
    "df_comst = df.loc[df.groupby(['ST'], sort=False)['REVENUE'].idxmax()][['ST', 'COMMODITY', 'REVENUE']]\n",
    "df_comst"
   ]
  },
  {
   "cell_type": "markdown",
   "id": "859af556",
   "metadata": {},
   "source": [
    "## 4 Which vendors have the most revenue, and which the least"
   ]
  },
  {
   "cell_type": "code",
   "execution_count": null,
   "id": "4427e195",
   "metadata": {},
   "outputs": [],
   "source": [
    "df_ven = df.groupby('VENDOR_CODE').sum().reset_index()\n",
    "\n",
    "ven_high = df_ven.query ('REVENUE > 30000000')\n",
    "ven_low = df_ven.query ('REVENUE < 90')\n",
    "\n",
    "ven_high.plot.bar(x = 'VENDOR_CODE', y = 'REVENUE')\n",
    "plot.show(block=True)\n",
    "ven_low.plot.bar(x = 'VENDOR_CODE', y = 'REVENUE')\n",
    "plot.show(block=True)"
   ]
  },
  {
   "cell_type": "markdown",
   "id": "5b86688f",
   "metadata": {},
   "source": [
    "## 5 Historical evolution of sales"
   ]
  },
  {
   "cell_type": "code",
   "execution_count": null,
   "id": "17bf23ef",
   "metadata": {},
   "outputs": [],
   "source": [
    "df['AWARD_DATE'] = pd.to_datetime(df['AWARD_DATE'])\n",
    "\n",
    "df_time = df.groupby(pd.Grouper(key='AWARD_DATE', axis = 0, freq='M')).sum().reset_index()\n",
    "df_time.plot(x = 'AWARD_DATE', y = 'REVENUE')\n",
    "\n",
    "plot.show(block=True)"
   ]
  },
  {
   "cell_type": "markdown",
   "id": "744a3760",
   "metadata": {},
   "source": [
    "# 4 Evaluate Results"
   ]
  },
  {
   "cell_type": "markdown",
   "id": "98e29610",
   "metadata": {},
   "source": [
    "In the end, after several rows were removed from the dataframe, a column was renamed, and a revenue collumn was added. Several questions were asked in order to get a better idea of what the data holds. This included several insights into the performance of several commodities, states, and vendors. Together with an overal evolution of sales. "
   ]
  }
 ],
 "metadata": {
  "kernelspec": {
   "display_name": "Python 3 (ipykernel)",
   "language": "python",
   "name": "python3"
  },
  "language_info": {
   "codemirror_mode": {
    "name": "ipython",
    "version": 3
   },
   "file_extension": ".py",
   "mimetype": "text/x-python",
   "name": "python",
   "nbconvert_exporter": "python",
   "pygments_lexer": "ipython3",
   "version": "3.9.12"
  }
 },
 "nbformat": 4,
 "nbformat_minor": 5
}
